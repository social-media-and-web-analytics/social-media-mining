{
 "cells": [
  {
   "cell_type": "markdown",
   "id": "c14e57fd",
   "metadata": {},
   "source": [
    "## Exercise 14: Popular BBC News stories\n",
    "Your client wants an application that automatically curates and presents [BBC News](https://www.bbc.co.uk/news) articles that are popular on social media. You plan to collect Twitter posts from [@BBCNews](https://twitter.com/BBCNews) and to estimate the popularity of articles using public metrics (retweets, replies, likes, etc). Write code below to collect recent tweets from Twitter and print out the most popular BBC News articles, using whichever measure of popularity you think suitable."
   ]
  },
  {
   "cell_type": "code",
   "execution_count": 1,
   "id": "9b02f221",
   "metadata": {},
   "outputs": [],
   "source": [
    "# (SOLUTION)\n"
   ]
  },
  {
   "cell_type": "markdown",
   "id": "f800daeb",
   "metadata": {},
   "source": [
    "## Exercise 15: Data Collection for Bank account comparison\n",
    "Your client wants to compare the popularity of different bank accounts to decide which banks to partner with. You decide to focus on the banks: Barclays, HSBC, Lloyds Bank Group, NatWest, and Nationwide; and to collect Twitter posts that mention at least one of the banks and contain the word \"account\". Find suitable Twitter handles for each of the banks and write code below to collect a suitable sample of recent tweets for each bank. Collect all the tweets together in a Pandas DataFrame and save to a `.csv` file.\n",
    "\n",
    "*Note*: You may need to [`sleep`](https://realpython.com/python-sleep/) in between requests to the Twitter API to ensure you are within the API [rate limits](https://developer.twitter.com/en/docs/twitter-api/rate-limits). "
   ]
  },
  {
   "cell_type": "code",
   "execution_count": 10,
   "id": "67ae970f",
   "metadata": {},
   "outputs": [],
   "source": [
    "# (SOLUTION)\n"
   ]
  },
  {
   "cell_type": "markdown",
   "id": "f65ebf67",
   "metadata": {},
   "source": [
    "## Exercise 16: Identifying relevant influential users\n",
    "Your client wants to know which Twitter users to mention in their Tweets to maximise popularity of their Tweets. They ask you to identify Twitter users who have many followers and regularly tweet about the \"climate\". Write code below to create a shortlist of Twitter users for your client. \n",
    "\n",
    "*Note*: You may need to [`sleep`](https://realpython.com/python-sleep/) in between requests to the Twitter API to ensure you are within the API [rate limits](https://developer.twitter.com/en/docs/twitter-api/rate-limits)."
   ]
  },
  {
   "cell_type": "code",
   "execution_count": null,
   "id": "172a606f",
   "metadata": {},
   "outputs": [],
   "source": [
    "# (SOLUTION)\n"
   ]
  }
 ],
 "metadata": {
  "kernelspec": {
   "display_name": "Python 3 (ipykernel)",
   "language": "python",
   "name": "python3"
  },
  "language_info": {
   "codemirror_mode": {
    "name": "ipython",
    "version": 3
   },
   "file_extension": ".py",
   "mimetype": "text/x-python",
   "name": "python",
   "nbconvert_exporter": "python",
   "pygments_lexer": "ipython3",
   "version": "3.7.9"
  }
 },
 "nbformat": 4,
 "nbformat_minor": 5
}
