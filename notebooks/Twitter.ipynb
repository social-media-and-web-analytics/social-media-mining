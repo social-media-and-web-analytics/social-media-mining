{
 "cells": [
  {
   "cell_type": "markdown",
   "id": "8d8b1b24",
   "metadata": {},
   "source": [
    "## Exercise 00\n",
    "Run the code below to check you can request data from Twitter.\n",
    "\n",
    "Note: you need a BEARER_TOKEN, you will not be able to request data without one. This will require you to setup a Twitter account and create an Twitter app. More details can be found in the [Week 02 - Twitter API Setup](https://mediasite.bris.ac.uk/Mediasite/Play/2bfbb743b85a4a1194dd51ffe2f6dacc1d) video."
   ]
  },
  {
   "cell_type": "code",
   "execution_count": null,
   "id": "4e923ca9",
   "metadata": {},
   "outputs": [],
   "source": [
    "import tweepy\n",
    "\n",
    "BEARER_TOKEN = ''\n",
    "\n",
    "client = tweepy.Client(BEARER_TOKEN)\n",
    "\n",
    "query = '#NASDAQ'\n",
    "\n",
    "tweets = client.search_recent_tweets(query=query, max_results=10)\n",
    "\n",
    "for tweet in tweets.data:\n",
    "    print('--- New tweet ---\\n')\n",
    "    print(tweet.text)\n",
    "    print('\\n')"
   ]
  }
 ],
 "metadata": {
  "kernelspec": {
   "display_name": "Python 3 (ipykernel)",
   "language": "python",
   "name": "python3"
  },
  "language_info": {
   "codemirror_mode": {
    "name": "ipython",
    "version": 3
   },
   "file_extension": ".py",
   "mimetype": "text/x-python",
   "name": "python",
   "nbconvert_exporter": "python",
   "pygments_lexer": "ipython3",
   "version": "3.7.9"
  }
 },
 "nbformat": 4,
 "nbformat_minor": 5
}
