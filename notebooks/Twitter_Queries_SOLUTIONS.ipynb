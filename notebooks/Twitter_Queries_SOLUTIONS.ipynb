{
 "cells": [
  {
   "cell_type": "markdown",
   "id": "c01710db",
   "metadata": {},
   "source": [
    "\n",
    "First insert your bearer token, assuming you have already tested it works in the 'Twitter.ipynb' notebook."
   ]
  },
  {
   "cell_type": "code",
   "execution_count": null,
   "id": "aec0d534",
   "metadata": {},
   "outputs": [],
   "source": [
    "import tweepy\n",
    "BEARER_TOKEN = ''\n",
    "client = tweepy.Client(BEARER_TOKEN)"
   ]
  },
  {
   "cell_type": "markdown",
   "id": "3e30b163",
   "metadata": {},
   "source": [
    "# Query basics\n",
    "Solutions to the exercises below can be found by reading through the [Building queries for Search Tweets](https://developer.twitter.com/en/docs/twitter-api/tweets/search/integrate/build-a-query) documentation.\n",
    "\n",
    "## Exercise 01\n",
    "Update the `query` variable in the code below to search for recent tweets that contain the word \"twitter\" and the word \"data\"."
   ]
  },
  {
   "cell_type": "code",
   "execution_count": null,
   "id": "a0663260",
   "metadata": {},
   "outputs": [],
   "source": [
    "query = 'twitter data'\n",
    "tweets = client.search_recent_tweets(query=query, max_results=10)\n",
    "for tweet in tweets.data:\n",
    "    print('--- New tweet ---\\n')\n",
    "    print(tweet.text)\n",
    "    print('\\n')"
   ]
  },
  {
   "cell_type": "markdown",
   "id": "5ff7504c",
   "metadata": {},
   "source": [
    "**Question**: Do all the tweets returned contain the word \"twitter\" and the word \"data\"?"
   ]
  },
  {
   "cell_type": "markdown",
   "id": "009a87f2",
   "metadata": {},
   "source": [
    "## Exercise 02\n",
    "Update the `query` variable in the code below to search for recent tweets that contain the phrase \"twitter data\"."
   ]
  },
  {
   "cell_type": "code",
   "execution_count": null,
   "id": "40a0007c",
   "metadata": {},
   "outputs": [],
   "source": [
    "query = '\"twitter data\"'\n",
    "tweets = client.search_recent_tweets(query=query, max_results=10)\n",
    "for tweet in tweets.data:\n",
    "    print('--- New tweet ---\\n')\n",
    "    print(tweet.text)\n",
    "    print('\\n')"
   ]
  },
  {
   "cell_type": "markdown",
   "id": "a9dd89d2",
   "metadata": {},
   "source": [
    "**Question**: Do all the tweets returned contain the phrase \"twitter data\"?"
   ]
  },
  {
   "cell_type": "markdown",
   "id": "fea61940",
   "metadata": {},
   "source": [
    "## Exercise 03\n",
    "Update the `query` variable in the code below to search for recent tweets that include the phrase \"Elon Musk\"."
   ]
  },
  {
   "cell_type": "code",
   "execution_count": null,
   "id": "5ccf5db5",
   "metadata": {},
   "outputs": [],
   "source": [
    "query = '\"Elon Musk\"'\n",
    "tweets = client.search_recent_tweets(query=query, max_results=10)\n",
    "for tweet in tweets.data:\n",
    "    print('--- New tweet ---\\n')\n",
    "    print(tweet.text)\n",
    "    print('\\n')"
   ]
  },
  {
   "cell_type": "markdown",
   "id": "a13debad",
   "metadata": {},
   "source": [
    "**Question**: Do all the tweets returned contain the phrase \"Elon Musk\"?"
   ]
  },
  {
   "cell_type": "markdown",
   "id": "fce59f00",
   "metadata": {},
   "source": [
    "## Exercise 04\n",
    "Update the `query` variable in the code below to search for recent tweets that include the Twitter handle \"@elonmusk\" taken from Elon Musk's Twitter [profile page](https://twitter.com/elonmusk/)."
   ]
  },
  {
   "cell_type": "code",
   "execution_count": null,
   "id": "d580c887",
   "metadata": {},
   "outputs": [],
   "source": [
    "query = '@elonmusk'\n",
    "tweets = client.search_recent_tweets(query=query, max_results=10)\n",
    "for tweet in tweets.data:\n",
    "    print('--- New tweet ---\\n')\n",
    "    print(tweet.text)\n",
    "    print('\\n')"
   ]
  },
  {
   "cell_type": "markdown",
   "id": "239881e2",
   "metadata": {},
   "source": [
    "**Question**: How is '@elonmusk' in a Tweet different from \"Elon Musk\" in a Tweet?\n",
    "\n",
    "*Hint*: Read about the different types of Tweets [here](https://help.twitter.com/en/using-twitter/types-of-tweets) to understand what \"Mentions\" are."
   ]
  },
  {
   "cell_type": "markdown",
   "id": "9a47e61b",
   "metadata": {},
   "source": [
    "## Exercise 05\n",
    "Write code below to search for recent Tweets that mention @elonmusk and @BillGates."
   ]
  },
  {
   "cell_type": "code",
   "execution_count": null,
   "id": "1f1d3fdc",
   "metadata": {},
   "outputs": [],
   "source": [
    "# (SOLUTION)\n",
    "query = '@elonmusk @BillGates'\n",
    "tweets = client.search_recent_tweets(query=query, max_results=10)\n",
    "for tweet in tweets.data:\n",
    "    print('--- New tweet ---\\n')\n",
    "    print(tweet.text)\n",
    "    print('\\n')"
   ]
  },
  {
   "cell_type": "markdown",
   "id": "55dd45d2",
   "metadata": {},
   "source": [
    "## Exercise 06\n",
    "Write code below to search for recent Tweets that mention @elonmusk and @BillGates and are not retweets."
   ]
  },
  {
   "cell_type": "code",
   "execution_count": null,
   "id": "a96cb310",
   "metadata": {},
   "outputs": [],
   "source": [
    "# (SOLUTION)\n",
    "query = '@elonmusk @BillGates -is:retweet'\n",
    "tweets = client.search_recent_tweets(query=query, max_results=10)\n",
    "for tweet in tweets.data:\n",
    "    print('--- New tweet ---\\n')\n",
    "    print(tweet.text)\n",
    "    print('\\n')"
   ]
  },
  {
   "cell_type": "markdown",
   "id": "9d20162f",
   "metadata": {},
   "source": [
    "**Question**: How would you recognise whether a Tweet was a retweet or not?"
   ]
  },
  {
   "cell_type": "markdown",
   "id": "3b178ea8",
   "metadata": {},
   "source": [
    "## Exercise 07\n",
    "Write code below to search for recent Tweets that are from Elon Musk and are not retweets or replies."
   ]
  },
  {
   "cell_type": "code",
   "execution_count": null,
   "id": "2d095623",
   "metadata": {},
   "outputs": [],
   "source": [
    "# (SOLUTION)\n",
    "query = 'from:elonmusk -is:retweet -is:reply'\n",
    "tweets = client.search_recent_tweets(query=query, max_results=10)\n",
    "for tweet in tweets.data:\n",
    "    print('--- New tweet ---\\n')\n",
    "    print(tweet.text)\n",
    "    print('\\n')"
   ]
  },
  {
   "cell_type": "markdown",
   "id": "6626484d",
   "metadata": {},
   "source": [
    "# Tweet data\n",
    "Solutions to the exercises below can be found by reading through the documentation on the Twitter [Tweet object model](https://developer.twitter.com/en/docs/twitter-api/data-dictionary/object-model/tweet).\n",
    "\n",
    "## Exercise 08\n",
    "Run the code below to search for recent Tweets containing the word \"twitter\" and to ensure Tweets are returned containing their `id`, `text`, and `created_at` fields.\n"
   ]
  },
  {
   "cell_type": "code",
   "execution_count": null,
   "id": "ec442472",
   "metadata": {},
   "outputs": [],
   "source": [
    "query = 'twitter'\n",
    "tweet_fields = [\n",
    "    'id',\n",
    "    'text',\n",
    "    'created_at',\n",
    "]\n",
    "tweets = client.search_recent_tweets(query=query, max_results=10,tweet_fields=tweet_fields)\n",
    "for tweet in tweets.data:\n",
    "    print(f'Tweet ID: {tweet.id}')\n",
    "    print(f'Created: {tweet.created_at}\\n')\n",
    "    print(tweet.text)\n",
    "    print('\\n')"
   ]
  },
  {
   "cell_type": "markdown",
   "id": "a657fe97",
   "metadata": {},
   "source": [
    "## Exercise 09\n",
    "Update the `fields` variable in the code below to search for recent tweets that contain the word \"twitter\" and to ensure Tweets are returned containing their `id`, `text`, `created_at`, and `public_metrics` fields."
   ]
  },
  {
   "cell_type": "code",
   "execution_count": null,
   "id": "f6a0cf9a",
   "metadata": {},
   "outputs": [],
   "source": [
    "query = 'twitter'\n",
    "#fields = [] # (SOLUTION)\n",
    "tweet_fields = [\n",
    "    'id',\n",
    "    'text',\n",
    "    'created_at',\n",
    "    'public_metrics',\n",
    "]\n",
    "\n",
    "tweets = client.search_recent_tweets(query=query, max_results=10,tweet_fields=tweet_fields)\n",
    "for tweet in tweets.data:\n",
    "    print(f'Tweet ID: {tweet.id}')\n",
    "    print(f'Created: {tweet.created_at}\\n')\n",
    "    print(tweet.text)\n",
    "    print(tweet.public_metrics)\n",
    "    print('\\n')"
   ]
  },
  {
   "cell_type": "markdown",
   "id": "f5a75b75",
   "metadata": {},
   "source": [
    "**Question**: Which Tweet (out of the ones returned) has been retweeted the most?"
   ]
  },
  {
   "cell_type": "markdown",
   "id": "93d160b5",
   "metadata": {},
   "source": [
    "## Exercise 10\n",
    "Write code below to search for recent Tweets that are from Elon Musk and are not retweets or replies and to ensure Tweets are returned containing their `id`, `text`, `created_at`, and `public_metrics` fields."
   ]
  },
  {
   "cell_type": "code",
   "execution_count": null,
   "id": "cee79b3f",
   "metadata": {},
   "outputs": [],
   "source": [
    "# (SOLUTION)\n",
    "query = 'from:elonmusk -is:retweet -is:reply' \n",
    "tweet_fields = [\n",
    "    'id',\n",
    "    'text',\n",
    "    'created_at',\n",
    "    'public_metrics',\n",
    "]\n",
    "tweets = client.search_recent_tweets(query=query, max_results=10,tweet_fields=tweet_fields)\n",
    "for tweet in tweets.data:\n",
    "    print(f'Tweet ID: {tweet.id}')\n",
    "    print(f'Created: {tweet.created_at}\\n')\n",
    "    print(tweet.text)\n",
    "    print(tweet.public_metrics)\n",
    "    print('\\n')"
   ]
  },
  {
   "cell_type": "markdown",
   "id": "a880dd6c",
   "metadata": {},
   "source": [
    "**Question**: Which of Elon Musk's recent Tweets has been retweeted the most? Which has received the most likes?"
   ]
  },
  {
   "cell_type": "markdown",
   "id": "37000c56",
   "metadata": {},
   "source": [
    "# User Data\n",
    "Solutions to (some of) the exercises below can be found by reading through the documentation on the Twitter [User object model](https://developer.twitter.com/en/docs/twitter-api/data-dictionary/object-model/user)"
   ]
  },
  {
   "cell_type": "markdown",
   "id": "e0b3f6bd",
   "metadata": {},
   "source": [
    "## Exercise 11\n",
    "Run the code below to fetch 10 users who follow Elon Musk on Twitter and print out their usernames."
   ]
  },
  {
   "cell_type": "code",
   "execution_count": null,
   "id": "b4f8439b",
   "metadata": {},
   "outputs": [],
   "source": [
    "user = client.get_user(username='elonmusk')\n",
    "users = client.get_users_followers(id=user.data.id, max_results=10)\n",
    "for user in users.data:\n",
    "    print(user.username)"
   ]
  },
  {
   "cell_type": "markdown",
   "id": "6510d762",
   "metadata": {},
   "source": [
    "**Question** Do the above users, themselves, have many followers on Twitter?\n",
    "\n",
    "*Hint*: Update the `username` variable below to be any of the usernames above, run the code, and use the generated URL to look at the user's Twitter profile."
   ]
  },
  {
   "cell_type": "code",
   "execution_count": null,
   "id": "bedb8446",
   "metadata": {},
   "outputs": [],
   "source": [
    "username = 'elonmusk'\n",
    "url = f'https://twitter.com/{username}/'\n",
    "print(url)"
   ]
  },
  {
   "cell_type": "markdown",
   "id": "78e22f18",
   "metadata": {},
   "source": [
    "## Exercise 12\n",
    "Add `public_metrics` to the `user_fields` list below to request followers of Elon Musk and to see how many followers they have."
   ]
  },
  {
   "cell_type": "code",
   "execution_count": null,
   "id": "1229ff95",
   "metadata": {},
   "outputs": [],
   "source": [
    "user = client.get_user(username='elonmusk')\n",
    "user_fields=[\n",
    "    'id',\n",
    "    'name',\n",
    "    'public_metrics', # (SOLUTION)\n",
    "]\n",
    "users = client.get_users_followers(id=user.data.id, max_results=10, user_fields=user_fields)\n",
    "for user in users.data:\n",
    "    print(user.id)\n",
    "    print(user.name)\n",
    "    print(user.public_metrics)"
   ]
  },
  {
   "cell_type": "markdown",
   "id": "f204c90e",
   "metadata": {},
   "source": [
    "**Question**: Which user has the most followers?"
   ]
  },
  {
   "cell_type": "markdown",
   "id": "5227da97",
   "metadata": {},
   "source": [
    "## Exercise 13\n",
    "Write code below to:\n",
    "1. fetch data for 1000 followers of Elon Musk, \n",
    "2. filter out any users whose data does not contain `followers_count`,\n",
    "3. sort the users by `followers_count` (descending),\n",
    "4. print `id`, `username`, `public_metrics` for the 10 users in the sample with the most followers."
   ]
  },
  {
   "cell_type": "code",
   "execution_count": null,
   "id": "1e1dd823",
   "metadata": {},
   "outputs": [],
   "source": [
    "# (SOLUTION)\n",
    "user = client.get_user(username='elonmusk')\n",
    "user_fields=[\n",
    "    'id',\n",
    "    'username',\n",
    "    'public_metrics',\n",
    "]\n",
    "users = client.get_users_followers(id=user.data.id, max_results=1000, user_fields=user_fields)\n",
    "\n",
    "users_filtered = list(filter(lambda user: 'followers_count' in user.public_metrics, users.data))\n",
    "\n",
    "users_sorted = sorted(users_filtered, key=lambda user: user.public_metrics['followers_count'], reverse=True)\n",
    "\n",
    "for user in users_sorted[:10]:\n",
    "    print(user.id)\n",
    "    print(user.username)\n",
    "    print(user.public_metrics)"
   ]
  },
  {
   "cell_type": "markdown",
   "id": "d1e6e0eb",
   "metadata": {},
   "source": [
    "**Question**: Which of the above users follow more users than follow them?"
   ]
  }
 ],
 "metadata": {
  "kernelspec": {
   "display_name": "Python 3 (ipykernel)",
   "language": "python",
   "name": "python3"
  },
  "language_info": {
   "codemirror_mode": {
    "name": "ipython",
    "version": 3
   },
   "file_extension": ".py",
   "mimetype": "text/x-python",
   "name": "python",
   "nbconvert_exporter": "python",
   "pygments_lexer": "ipython3",
   "version": "3.7.9"
  }
 },
 "nbformat": 4,
 "nbformat_minor": 5
}
